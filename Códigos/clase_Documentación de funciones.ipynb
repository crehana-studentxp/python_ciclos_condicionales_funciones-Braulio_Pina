{
 "cells": [
  {
   "cell_type": "code",
   "execution_count": 1,
   "id": "fbbf3b95",
   "metadata": {},
   "outputs": [],
   "source": [
    "#documentación de funciones\n",
    "#este es estilo Google Docstrings\n",
    "def multiplicacion(x,y):\n",
    "    \"\"\"\n",
    "    multiplica dos números y regresa el valor de la múltiplicación\n",
    "    \n",
    "    Parámetros (o params)\n",
    "    ----------------------\n",
    "    x: valor númerico \n",
    "    y: valor númerico\n",
    "    \n",
    "         \n",
    "    Regresa (o return):\n",
    "    ----------------------\n",
    "    \n",
    "    resultado: Valor númerico resultado de multiplicar x por y\n",
    "    \n",
    "    \n",
    "    \"\"\"\n",
    "    resultado = x * y\n",
    "    \n",
    "    return resultado"
   ]
  },
  {
   "cell_type": "code",
   "execution_count": 2,
   "id": "5f1b85cd",
   "metadata": {},
   "outputs": [
    {
     "name": "stdout",
     "output_type": "stream",
     "text": [
      "Help on function multiplicacion in module __main__:\n",
      "\n",
      "multiplicacion(x, y)\n",
      "    multiplica dos números y regresa el valor de la múltiplicación\n",
      "    \n",
      "    Parámetros (o params)\n",
      "    ----------------------\n",
      "    x: valor númerico \n",
      "    y: valor númerico\n",
      "    \n",
      "         \n",
      "    Regresa (o return):\n",
      "    ----------------------\n",
      "    \n",
      "    resultado: Valor númerico resultado de multiplicar x por y\n",
      "\n"
     ]
    }
   ],
   "source": [
    "#podemos ver nuestra documentación con la función help\n",
    "\n",
    "help(multiplicacion)"
   ]
  }
 ],
 "metadata": {
  "kernelspec": {
   "display_name": "Python 3",
   "language": "python",
   "name": "python3"
  },
  "language_info": {
   "codemirror_mode": {
    "name": "ipython",
    "version": 3
   },
   "file_extension": ".py",
   "mimetype": "text/x-python",
   "name": "python",
   "nbconvert_exporter": "python",
   "pygments_lexer": "ipython3",
   "version": "3.8.8"
  }
 },
 "nbformat": 4,
 "nbformat_minor": 5
}
