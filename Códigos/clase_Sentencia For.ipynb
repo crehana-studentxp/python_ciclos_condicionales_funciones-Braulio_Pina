{
 "cells": [
  {
   "cell_type": "code",
   "execution_count": 3,
   "id": "62ff8551",
   "metadata": {},
   "outputs": [
    {
     "name": "stdout",
     "output_type": "stream",
     "text": [
      "1\n",
      "2\n",
      "3\n",
      "4\n",
      "5\n",
      "6\n",
      "7\n",
      "8\n",
      "9\n",
      "10\n"
     ]
    }
   ],
   "source": [
    "#ejemplo de recorrimiento de lista con while\n",
    "\n",
    "lista = [1,2,3,4,5,6,7,8,9,10]\n",
    "\n",
    "#variable para recorrer los elementos de la lista por indice\n",
    "indice = 0\n",
    "\n",
    "#mientras indice sea menor al número de elementos en lista, haz...\n",
    "while indice < len(lista):\n",
    "    \n",
    "    #imprimimos el elemento accediendo por indice\n",
    "    print(lista[indice])\n",
    "    \n",
    "    #agregamos 1 a indice para pasar al siguiente elemento\n",
    "    indice += 1"
   ]
  },
  {
   "cell_type": "code",
   "execution_count": 6,
   "id": "78c3baf2",
   "metadata": {},
   "outputs": [
    {
     "name": "stdout",
     "output_type": "stream",
     "text": [
      "1\n",
      "2\n",
      "3\n",
      "4\n",
      "5\n",
      "6\n",
      "7\n",
      "8\n",
      "9\n",
      "10\n"
     ]
    }
   ],
   "source": [
    "#ejemplo de recorrimiento de lista susituyendo while con for \n",
    "\n",
    "lista = [1, 2, 3, 4, 5, 6, 7, 8, 9, 10]\n",
    "\n",
    "\n",
    "#para cada elemento en lista, haz lo siguiente...\n",
    "for elemento in lista:\n",
    "    \n",
    "    #imprime el elemento\n",
    "    print(elemento)\n"
   ]
  }
 ],
 "metadata": {
  "kernelspec": {
   "display_name": "Python 3",
   "language": "python",
   "name": "python3"
  },
  "language_info": {
   "codemirror_mode": {
    "name": "ipython",
    "version": 3
   },
   "file_extension": ".py",
   "mimetype": "text/x-python",
   "name": "python",
   "nbconvert_exporter": "python",
   "pygments_lexer": "ipython3",
   "version": "3.8.8"
  }
 },
 "nbformat": 4,
 "nbformat_minor": 5
}
