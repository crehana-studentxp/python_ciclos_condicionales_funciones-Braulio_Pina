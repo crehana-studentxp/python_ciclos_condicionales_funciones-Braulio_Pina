{
 "cells": [
  {
   "cell_type": "code",
   "execution_count": 3,
   "id": "62911d45",
   "metadata": {},
   "outputs": [
    {
     "data": {
      "text/plain": [
       "'Hola Mundo'"
      ]
     },
     "execution_count": 3,
     "metadata": {},
     "output_type": "execute_result"
    }
   ],
   "source": [
    "#ejemplo de retorno de valores\n",
    "\n",
    "def func_devuelve():\n",
    "    \n",
    "    #en return puedes poner lo que quieras, hasta variables definidas en la funcion\n",
    "    return \"Hola Mundo\"\n",
    "\n",
    "func_devuelve()"
   ]
  },
  {
   "cell_type": "code",
   "execution_count": 5,
   "id": "e3f0575b",
   "metadata": {},
   "outputs": [
    {
     "data": {
      "text/plain": [
       "'Hola Mundo'"
      ]
     },
     "execution_count": 5,
     "metadata": {},
     "output_type": "execute_result"
    }
   ],
   "source": [
    "#devolviendo variables\n",
    "def func_devuelve():\n",
    "    \n",
    "    #ahora ponemos en una variable lo que queremos que se devuelva\n",
    "    saludo = \"Hola Mundo\"\n",
    "    \n",
    "    return saludo\n",
    "\n",
    "func_devuelve()"
   ]
  },
  {
   "cell_type": "code",
   "execution_count": 7,
   "id": "3b29147a",
   "metadata": {},
   "outputs": [
    {
     "data": {
      "text/plain": [
       "('Hola Mundo', 5, [1, 2, 3])"
      ]
     },
     "execution_count": 7,
     "metadata": {},
     "output_type": "execute_result"
    }
   ],
   "source": [
    "#devolviendo múltiples variables\n",
    "def func_devuelve():\n",
    "    \n",
    "    #podemos regresar múltiples valores separados por comas\n",
    "    return \"Hola Mundo\", 5, [1,2,3]\n",
    "\n",
    "func_devuelve()"
   ]
  },
  {
   "cell_type": "code",
   "execution_count": 8,
   "id": "ce6bd6de",
   "metadata": {},
   "outputs": [
    {
     "name": "stdout",
     "output_type": "stream",
     "text": [
      "Hola Mundo\n",
      "5\n",
      "[1, 2, 3]\n"
     ]
    }
   ],
   "source": [
    "#podemos asignar esos valores a diferentes variables\n",
    "\n",
    "#separados por comas\n",
    "x, y, z = func_devuelve()\n",
    "\n",
    "print(x)\n",
    "\n",
    "print(y)\n",
    "\n",
    "print(z)"
   ]
  },
  {
   "cell_type": "code",
   "execution_count": 12,
   "id": "29534ad4",
   "metadata": {},
   "outputs": [
    {
     "data": {
      "text/plain": [
       "6"
      ]
     },
     "execution_count": 12,
     "metadata": {},
     "output_type": "execute_result"
    }
   ],
   "source": [
    "#ejemplo de cómo pasar parámetros\n",
    "\n",
    "#los parametros se ponen dentro de los paréntesis\n",
    "def multiplicacion(x,y):\n",
    "    \n",
    "    return x * y\n",
    "\n",
    "#evaluando la función con parámetros\n",
    "#parametos por posición\n",
    "multiplicacion(2,3)"
   ]
  },
  {
   "cell_type": "code",
   "execution_count": 11,
   "id": "4f7238dc",
   "metadata": {},
   "outputs": [
    {
     "data": {
      "text/plain": [
       "6"
      ]
     },
     "execution_count": 11,
     "metadata": {},
     "output_type": "execute_result"
    }
   ],
   "source": [
    "#también podemos pasar parámetros por nombre\n",
    "\n",
    "#ponemos que valor le corresponde a cada quién, sin importar orden\n",
    "multiplicacion(y = 3, x = 2)"
   ]
  }
 ],
 "metadata": {
  "kernelspec": {
   "display_name": "Python 3",
   "language": "python",
   "name": "python3"
  },
  "language_info": {
   "codemirror_mode": {
    "name": "ipython",
    "version": 3
   },
   "file_extension": ".py",
   "mimetype": "text/x-python",
   "name": "python",
   "nbconvert_exporter": "python",
   "pygments_lexer": "ipython3",
   "version": "3.8.8"
  }
 },
 "nbformat": 4,
 "nbformat_minor": 5
}
