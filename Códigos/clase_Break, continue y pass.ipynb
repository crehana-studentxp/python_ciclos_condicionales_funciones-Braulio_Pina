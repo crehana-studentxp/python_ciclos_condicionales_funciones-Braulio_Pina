{
 "cells": [
  {
   "cell_type": "code",
   "execution_count": 2,
   "id": "ee55a91c",
   "metadata": {},
   "outputs": [
    {
     "name": "stdout",
     "output_type": "stream",
     "text": [
      "contador vale 4 y el ciclo se detendrá\n"
     ]
    }
   ],
   "source": [
    "#ejemplo de while con instrucción break\n",
    "\n",
    "\n",
    "contador = 0\n",
    "\n",
    "#mientras contador sea menor a 10, haz esto\n",
    "while contador < 10:\n",
    "    \n",
    "    #le agregamos 1, hasta que contador vale 10\n",
    "    contador += 1\n",
    "    \n",
    "    #agregando los condicionales respetando identación del while\n",
    "    \n",
    "    #si contador vale 4, haz lo siguiente\n",
    "    if contador == 4:\n",
    "        print(\"contador vale 4 y el ciclo se detendrá\")\n",
    "        \n",
    "        #el break detendrá el ciclo si se llega a ejecutar\n",
    "        break\n",
    "        \n",
    "    #sino, si contador vale 9, haz lo siguiente    \n",
    "    elif contador == 9:\n",
    "        print(\"el ciclo while está a una iteración de terminar porque vale: \",contador)\n",
    "\n"
   ]
  },
  {
   "cell_type": "code",
   "execution_count": 6,
   "id": "2683da03",
   "metadata": {},
   "outputs": [
    {
     "name": "stdout",
     "output_type": "stream",
     "text": [
      "la variable contador vale:  1\n",
      "la variable contador vale:  2\n",
      "la variable contador vale:  5\n",
      "la variable contador vale:  6\n",
      "la variable contador vale:  7\n",
      "la variable contador vale:  8\n",
      "el ciclo while está a una iteración de terminar porque vale:  9\n",
      "la variable contador vale:  9\n",
      "la variable contador vale:  10\n"
     ]
    }
   ],
   "source": [
    "#ejemplo de while con instrucción continue\n",
    "\n",
    "contador = 0\n",
    "\n",
    "#mientras contador sea menor a 10, haz esto\n",
    "while contador < 10:\n",
    "    \n",
    "    #le agregamos 1, hasta que contador vale 10\n",
    "    contador += 1\n",
    "    \n",
    "    #agregando los condicionales respetando identación del while\n",
    "    \n",
    "    #si contador vale 4, haz lo siguiente\n",
    "    if contador == 4 or contador ==3:\n",
    "        \n",
    "        #hará que el resto del código no se ejecute, es como un salto\n",
    "        continue\n",
    "        \n",
    "        \n",
    "    #sino, si contador vale 9, haz lo siguiente    \n",
    "    elif contador == 9:\n",
    "        print(\"el ciclo while está a una iteración de terminar porque vale: \",contador)\n",
    "        \n",
    "    \n",
    "    print(\"la variable contador vale: \",contador)\n",
    "\n"
   ]
  },
  {
   "cell_type": "code",
   "execution_count": 17,
   "id": "16337640",
   "metadata": {},
   "outputs": [
    {
     "name": "stdout",
     "output_type": "stream",
     "text": [
      "la variable contador vale:  1\n",
      "la variable contador vale:  2\n",
      "la variable contador vale:  3\n",
      "la variable contador vale:  4\n",
      "la variable contador vale:  5\n",
      "la variable contador vale:  6\n",
      "la variable contador vale:  7\n",
      "la variable contador vale:  8\n",
      "el ciclo while está a una iteración de terminar porque vale:  9\n",
      "la variable contador vale:  9\n",
      "la variable contador vale:  10\n"
     ]
    }
   ],
   "source": [
    "#ejemplo de while con instrucción pass\n",
    "\n",
    "contador = 0\n",
    "\n",
    "#mientras contador sea menor a 10, haz esto\n",
    "while contador < 10:\n",
    "    \n",
    "    #le agregamos 1, hasta que contador vale 10\n",
    "    contador += 1\n",
    "    \n",
    "    #si contador vale 4, haz lo siguiente\n",
    "    if contador == 4 or contador ==3:\n",
    "        pass #sirve para cuando vas esbozando tu código\n",
    "        \n",
    "    #sino, si contador vale 9, haz lo siguiente    \n",
    "    elif contador == 9:\n",
    "        print(\"el ciclo while está a una iteración de terminar porque vale: \",contador)\n",
    "        \n",
    "    \n",
    "    print(\"la variable contador vale: \",contador)"
   ]
  }
 ],
 "metadata": {
  "kernelspec": {
   "display_name": "Python 3",
   "language": "python",
   "name": "python3"
  },
  "language_info": {
   "codemirror_mode": {
    "name": "ipython",
    "version": 3
   },
   "file_extension": ".py",
   "mimetype": "text/x-python",
   "name": "python",
   "nbconvert_exporter": "python",
   "pygments_lexer": "ipython3",
   "version": "3.8.8"
  }
 },
 "nbformat": 4,
 "nbformat_minor": 5
}
