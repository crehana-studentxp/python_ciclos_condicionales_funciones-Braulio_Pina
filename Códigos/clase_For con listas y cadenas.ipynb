{
 "cells": [
  {
   "cell_type": "code",
   "execution_count": 1,
   "id": "877beffe",
   "metadata": {},
   "outputs": [
    {
     "name": "stdout",
     "output_type": "stream",
     "text": [
      "1\n",
      "2\n",
      "3\n",
      "4\n",
      "5\n"
     ]
    }
   ],
   "source": [
    "#ejemplo de for con listas\n",
    "\n",
    "lista = [1, 2, 3, 4, 5]\n",
    "\n",
    "\n",
    "#para cada elemento en lista, haz lo siguiente...\n",
    "for elemento in lista:\n",
    "    \n",
    "    #imprime el elemento\n",
    "    print(elemento)\n"
   ]
  },
  {
   "cell_type": "code",
   "execution_count": 3,
   "id": "e5ccf1b3",
   "metadata": {},
   "outputs": [],
   "source": [
    "#ejemplo de for con lista vacía\n",
    "\n",
    "lista = []\n",
    "\n",
    "\n",
    "#para cada elemento en lista, haz lo siguiente...\n",
    "for elemento in lista:\n",
    "    \n",
    "    #imprime el elemento\n",
    "    print(elemento)\n",
    "#no se ejecuta porque está vacía"
   ]
  },
  {
   "cell_type": "code",
   "execution_count": 5,
   "id": "ae8339f1",
   "metadata": {},
   "outputs": [
    {
     "name": "stdout",
     "output_type": "stream",
     "text": [
      "2\n",
      "4\n",
      "6\n",
      "8\n",
      "10\n"
     ]
    }
   ],
   "source": [
    "#ejemplo de for con listas\n",
    "\n",
    "lista = [1, 2, 3, 4, 5]\n",
    "\n",
    "\n",
    "#para cada elemento en lista, haz lo siguiente...\n",
    "for elemento in lista:\n",
    "    \n",
    "    #modificando el elememento en el for\n",
    "    elemento_nuevo = elemento * 2\n",
    "    #imprime el elemento\n",
    "    print(elemento_nuevo)\n"
   ]
  },
  {
   "cell_type": "code",
   "execution_count": 7,
   "id": "476a7a0a",
   "metadata": {},
   "outputs": [
    {
     "name": "stdout",
     "output_type": "stream",
     "text": [
      "elemento1 multiplicado por 2 es igual a: 2\n",
      "elemento2 multiplicado por 2 es igual a: 12\n",
      "elemento1 multiplicado por 2 es igual a: 4\n",
      "elemento2 multiplicado por 2 es igual a: 14\n",
      "elemento1 multiplicado por 2 es igual a: 6\n",
      "elemento2 multiplicado por 2 es igual a: 16\n",
      "elemento1 multiplicado por 2 es igual a: 8\n",
      "elemento2 multiplicado por 2 es igual a: 18\n",
      "elemento1 multiplicado por 2 es igual a: 10\n",
      "elemento2 multiplicado por 2 es igual a: 20\n"
     ]
    }
   ],
   "source": [
    "#ejemplo de for con la función zip para iterar sobre más de una lista\n",
    "\n",
    "lista = [1, 2, 3, 4, 5]\n",
    "\n",
    "lista_2 = [6,7,8,9,10]\n",
    "\n",
    "#para cada elemento en lista y lista2, haz lo siguiente...\n",
    "for elemento1, elemento2 in zip(lista,lista_2): #se pueden poner más de dos listas, respetando el orden\n",
    "    \n",
    "    #imprime el elemento\n",
    "    print(\"elemento1 multiplicado por 2 es igual a:\",elemento1 * 2)\n",
    "    #imprime el elemento\n",
    "    print(\"elemento2 multiplicado por 2 es igual a:\",elemento2 * 2)\n"
   ]
  },
  {
   "cell_type": "code",
   "execution_count": 9,
   "id": "aa722005",
   "metadata": {},
   "outputs": [
    {
     "name": "stdout",
     "output_type": "stream",
     "text": [
      "H\n",
      "o\n",
      "l\n",
      "a\n",
      " \n",
      "M\n",
      "u\n",
      "n\n",
      "d\n",
      "o\n",
      "!\n"
     ]
    }
   ],
   "source": [
    "#for con cadenas \n",
    "\n",
    "#definiendo mi variable texto, que es string\n",
    "texto = \"Hola Mundo!\"\n",
    "\n",
    "#para cada i(elemento) en texto\n",
    "for i in texto:\n",
    "    print(i)\n",
    "    "
   ]
  }
 ],
 "metadata": {
  "kernelspec": {
   "display_name": "Python 3",
   "language": "python",
   "name": "python3"
  },
  "language_info": {
   "codemirror_mode": {
    "name": "ipython",
    "version": 3
   },
   "file_extension": ".py",
   "mimetype": "text/x-python",
   "name": "python",
   "nbconvert_exporter": "python",
   "pygments_lexer": "ipython3",
   "version": "3.8.8"
  }
 },
 "nbformat": 4,
 "nbformat_minor": 5
}
