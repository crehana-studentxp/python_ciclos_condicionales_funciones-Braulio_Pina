{
 "cells": [
  {
   "cell_type": "code",
   "execution_count": 4,
   "id": "768b8a76",
   "metadata": {},
   "outputs": [
    {
     "name": "stdout",
     "output_type": "stream",
     "text": [
      "contador vale:  1\n",
      "contador vale:  2\n",
      "contador vale:  3\n",
      "contador vale:  4\n",
      "contador vale:  5\n",
      "contador vale:  6\n",
      "contador vale:  7\n",
      "contador vale:  8\n",
      "contador vale:  9\n",
      "contador vale:  10\n"
     ]
    }
   ],
   "source": [
    "#ejemplo para explicar uso de while\n",
    "\n",
    "#variable para controlar y contar\n",
    "contador = 0\n",
    "\n",
    "#mientras contador sea menor a 10, haz esto\n",
    "while contador < 10:\n",
    "    \n",
    "    #le agregamos 1, hasta que contador vale 10\n",
    "    contador += 1\n",
    "    print(\"contador vale: \",contador)\n",
    "\n",
    "#podemos ver que itera 10 veces, hasta que en la ultima iteración, contador ya vale 10\n",
    "#mucho cuidado al definir el while, puede quedarse en un loop infinito"
   ]
  }
 ],
 "metadata": {
  "kernelspec": {
   "display_name": "Python 3",
   "language": "python",
   "name": "python3"
  },
  "language_info": {
   "codemirror_mode": {
    "name": "ipython",
    "version": 3
   },
   "file_extension": ".py",
   "mimetype": "text/x-python",
   "name": "python",
   "nbconvert_exporter": "python",
   "pygments_lexer": "ipython3",
   "version": "3.8.8"
  }
 },
 "nbformat": 4,
 "nbformat_minor": 5
}
