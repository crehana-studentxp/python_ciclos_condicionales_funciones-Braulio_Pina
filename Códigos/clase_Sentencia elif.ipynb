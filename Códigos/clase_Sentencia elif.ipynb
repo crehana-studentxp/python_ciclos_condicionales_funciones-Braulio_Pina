{
 "cells": [
  {
   "cell_type": "code",
   "execution_count": 8,
   "id": "d00be233",
   "metadata": {},
   "outputs": [
    {
     "name": "stdout",
     "output_type": "stream",
     "text": [
      "disculpa pero no estoy programado para responder a esto\n"
     ]
    }
   ],
   "source": [
    "#ejemplo de implementación de elif\n",
    "\n",
    "acción = \"patito\"\n",
    "\n",
    "#si acción es igual a inicio, haz esto\n",
    "if acción == \"inicio\":\n",
    "    print(\"bienvenido estudiante!\")\n",
    "\n",
    "#si no, si acción es igual a clásico, haz esto\n",
    "elif acción == \"clásico\":\n",
    "    print(\"hola mundo!\")\n",
    "\n",
    "#si no, si acción es igual a final, haz esto    \n",
    "elif acción == \"final\":\n",
    "    print(\"Adios estudiante!\")\n",
    "\n",
    "#en otro caso, haz esto\n",
    "else:\n",
    "    print(\"disculpa pero no estoy programado para responder a esto\")"
   ]
  },
  {
   "cell_type": "code",
   "execution_count": 31,
   "id": "985faaa8",
   "metadata": {},
   "outputs": [
    {
     "name": "stdout",
     "output_type": "stream",
     "text": [
      "x vale es mayor o igual a 50\n"
     ]
    }
   ],
   "source": [
    "#simulando elif con if\n",
    "x = 50\n",
    "\n",
    "if x >= 400:\n",
    "    print(\"x es mayor o igual a 400 \")\n",
    "    \n",
    "    \n",
    "elif x >= 100:\n",
    "    print(\"x es mayor o igual a 100\")\n",
    "    \n",
    "    \n",
    "elif x >= 50:\n",
    "    print(\"x vale es mayor o igual a 50\")"
   ]
  },
  {
   "cell_type": "code",
   "execution_count": 36,
   "id": "764f7ae2",
   "metadata": {},
   "outputs": [
    {
     "name": "stdout",
     "output_type": "stream",
     "text": [
      "x es mayor o igual a 400 \n"
     ]
    }
   ],
   "source": [
    "#tomando el ejemplo anterior\n",
    "\n",
    "#simulando elif con if\n",
    "x = 500\n",
    "\n",
    "#esta se queda igual\n",
    "if x >= 400 :\n",
    "    print(\"x es mayor o igual a 400 \")\n",
    "    \n",
    "#aqui hay que acotar bien el valor de x, para que no entre en conflicto con la condicion anterior    \n",
    "if x >= 100 and x < 400:\n",
    "    print(\"x es mayor o igual a 100\")\n",
    "    \n",
    "    \n",
    "if x >= 50 and x < 100:\n",
    "    print(\"x vale es mayor o igual a 50\")\n"
   ]
  }
 ],
 "metadata": {
  "kernelspec": {
   "display_name": "Python 3",
   "language": "python",
   "name": "python3"
  },
  "language_info": {
   "codemirror_mode": {
    "name": "ipython",
    "version": 3
   },
   "file_extension": ".py",
   "mimetype": "text/x-python",
   "name": "python",
   "nbconvert_exporter": "python",
   "pygments_lexer": "ipython3",
   "version": "3.8.8"
  }
 },
 "nbformat": 4,
 "nbformat_minor": 5
}
