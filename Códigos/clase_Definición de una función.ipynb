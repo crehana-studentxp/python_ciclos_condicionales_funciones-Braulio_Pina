{
 "cells": [
  {
   "cell_type": "code",
   "execution_count": 4,
   "id": "76e45ad9",
   "metadata": {},
   "outputs": [
    {
     "name": "stdout",
     "output_type": "stream",
     "text": [
      "hola mundo!\n"
     ]
    }
   ],
   "source": [
    "#cómo definir funciones en python\n",
    "\n",
    "#definiendo la función\n",
    "#primero def, despues el nombre de la funcion (sin espacios) y dos puntos!\n",
    "def hola_mundo():\n",
    "    #accion con identación dentro de la función\n",
    "    print(\"hola mundo!\")\n",
    "    \n",
    "#ejecutando la función\n",
    "\n",
    "hola_mundo()"
   ]
  },
  {
   "cell_type": "code",
   "execution_count": 5,
   "id": "3b578cde",
   "metadata": {},
   "outputs": [],
   "source": [
    "#se pueden poner variables y sentencias de control\n",
    "def hola_mundo():\n",
    "    #accion con identación dentro de la función\n",
    "    print(\"hola mundo!\")\n",
    "    #aqui pueden haber un if\n",
    "    \n",
    "    #if algo:\n",
    "         #accion\n",
    "        \n",
    "    #tambien pueden existir variables\n",
    "    # variable = 10"
   ]
  },
  {
   "cell_type": "code",
   "execution_count": 7,
   "id": "a667262f",
   "metadata": {},
   "outputs": [
    {
     "ename": "NameError",
     "evalue": "name 'x' is not defined",
     "output_type": "error",
     "traceback": [
      "\u001b[1;31m---------------------------------------------------------------------------\u001b[0m",
      "\u001b[1;31mNameError\u001b[0m                                 Traceback (most recent call last)",
      "\u001b[1;32m<ipython-input-7-4fc9230dd9e2>\u001b[0m in \u001b[0;36m<module>\u001b[1;34m\u001b[0m\n\u001b[0;32m      9\u001b[0m \u001b[1;33m\u001b[0m\u001b[0m\n\u001b[0;32m     10\u001b[0m \u001b[1;31m#vemos cuanto vale x\u001b[0m\u001b[1;33m\u001b[0m\u001b[1;33m\u001b[0m\u001b[1;33m\u001b[0m\u001b[0m\n\u001b[1;32m---> 11\u001b[1;33m \u001b[0mprint\u001b[0m\u001b[1;33m(\u001b[0m\u001b[0mx\u001b[0m\u001b[1;33m)\u001b[0m\u001b[1;33m\u001b[0m\u001b[1;33m\u001b[0m\u001b[0m\n\u001b[0m",
      "\u001b[1;31mNameError\u001b[0m: name 'x' is not defined"
     ]
    }
   ],
   "source": [
    "#ejemplos de ámbitos de variables\n",
    "\n",
    "def prueba_ambito():\n",
    "    #declarando la variable dentro de mi función\n",
    "     x = 5\n",
    "\n",
    "#ejecutamos la funcion\n",
    "prueba_ambito()    \n",
    "\n",
    "#vemos cuanto vale x\n",
    "print(x)\n",
    "\n",
    "#nos sale error, porque la variable solo existe en el ámbito local de la función"
   ]
  },
  {
   "cell_type": "code",
   "execution_count": 11,
   "id": "2ea60e8c",
   "metadata": {},
   "outputs": [
    {
     "name": "stdout",
     "output_type": "stream",
     "text": [
      "la variable y, vale:  10\n"
     ]
    }
   ],
   "source": [
    "#prueba de ámbito global\n",
    "\n",
    "#definimos nuestra variable\n",
    "y = 10\n",
    "\n",
    "def prueba_global():\n",
    "    #esta funcion toma el valor de y del ámbito global y lo imprime\n",
    "    print(\"la variable y, vale: \",y)\n",
    "    \n",
    "prueba_global()"
   ]
  }
 ],
 "metadata": {
  "kernelspec": {
   "display_name": "Python 3",
   "language": "python",
   "name": "python3"
  },
  "language_info": {
   "codemirror_mode": {
    "name": "ipython",
    "version": 3
   },
   "file_extension": ".py",
   "mimetype": "text/x-python",
   "name": "python",
   "nbconvert_exporter": "python",
   "pygments_lexer": "ipython3",
   "version": "3.8.8"
  }
 },
 "nbformat": 4,
 "nbformat_minor": 5
}
