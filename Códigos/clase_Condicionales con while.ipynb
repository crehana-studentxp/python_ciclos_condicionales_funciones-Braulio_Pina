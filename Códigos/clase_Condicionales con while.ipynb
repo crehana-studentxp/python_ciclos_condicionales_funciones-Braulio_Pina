{
 "cells": [
  {
   "cell_type": "code",
   "execution_count": 3,
   "id": "406ce37d",
   "metadata": {},
   "outputs": [
    {
     "name": "stdout",
     "output_type": "stream",
     "text": [
      "contador vale:  4\n",
      "el ciclo while está a una iteración de terminar porque vale:  9\n"
     ]
    }
   ],
   "source": [
    "#ejemplo de while con if\n",
    "\n",
    "\n",
    "contador = 0\n",
    "\n",
    "#mientras contador sea menor a 10, haz esto\n",
    "while contador < 10:\n",
    "    \n",
    "    #le agregamos 1, hasta que contador vale 10\n",
    "    contador += 1\n",
    "    \n",
    "    #agregando los condicionales respetando identación del while\n",
    "    \n",
    "    #si contador vale 4, haz lo siguiente\n",
    "    if contador == 4:\n",
    "        print(\"contador vale: \",contador)\n",
    "        \n",
    "    #sino, si contador vale 9, haz lo siguiente    \n",
    "    elif contador == 9:\n",
    "        print(\"el ciclo while está a una iteración de terminar porque vale: \",contador)\n",
    "\n"
   ]
  }
 ],
 "metadata": {
  "kernelspec": {
   "display_name": "Python 3",
   "language": "python",
   "name": "python3"
  },
  "language_info": {
   "codemirror_mode": {
    "name": "ipython",
    "version": 3
   },
   "file_extension": ".py",
   "mimetype": "text/x-python",
   "name": "python",
   "nbconvert_exporter": "python",
   "pygments_lexer": "ipython3",
   "version": "3.8.8"
  }
 },
 "nbformat": 4,
 "nbformat_minor": 5
}
