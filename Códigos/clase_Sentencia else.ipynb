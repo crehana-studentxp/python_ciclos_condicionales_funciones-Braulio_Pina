{
 "cells": [
  {
   "cell_type": "code",
   "execution_count": 2,
   "id": "19a8efe0",
   "metadata": {},
   "outputs": [
    {
     "name": "stdout",
     "output_type": "stream",
     "text": [
      "la variable x vale 100\n"
     ]
    }
   ],
   "source": [
    "#ejemplo antes de utilizar else\n",
    "x = 100\n",
    "\n",
    "if x == 100:\n",
    "    print(\"la variable x vale 100\")\n",
    "    \n",
    "# que hacemos en otros casos?, y si x no es numerica?    "
   ]
  },
  {
   "cell_type": "code",
   "execution_count": 6,
   "id": "9f798af0",
   "metadata": {},
   "outputs": [
    {
     "name": "stdout",
     "output_type": "stream",
     "text": [
      "x no vale 100, x vale 1000\n"
     ]
    }
   ],
   "source": [
    "#utilizando else\n",
    "x = 1000\n",
    "\n",
    "if x == 100:\n",
    "    print(\"la variable x vale 100\")\n",
    "\n",
    "#en cualquier otro caso, haz esto\n",
    "else:\n",
    "    print(\"x no vale 100, x vale\",x)\n",
    "    \n",
    "  "
   ]
  }
 ],
 "metadata": {
  "kernelspec": {
   "display_name": "Python 3",
   "language": "python",
   "name": "python3"
  },
  "language_info": {
   "codemirror_mode": {
    "name": "ipython",
    "version": 3
   },
   "file_extension": ".py",
   "mimetype": "text/x-python",
   "name": "python",
   "nbconvert_exporter": "python",
   "pygments_lexer": "ipython3",
   "version": "3.8.8"
  }
 },
 "nbformat": 4,
 "nbformat_minor": 5
}
