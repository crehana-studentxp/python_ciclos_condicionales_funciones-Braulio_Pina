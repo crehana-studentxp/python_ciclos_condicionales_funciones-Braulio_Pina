{
 "cells": [
  {
   "cell_type": "code",
   "execution_count": 1,
   "id": "ae5c6fb5",
   "metadata": {},
   "outputs": [
    {
     "name": "stdout",
     "output_type": "stream",
     "text": [
      "aquí va una acción\n",
      "como se cumple condición, se ejecuta el print\n"
     ]
    }
   ],
   "source": [
    "# sintáxis de if\n",
    "\n",
    "if True: #si es verdadero, se ejecuta\n",
    "    print(\"aquí va una acción\")\n",
    "    print(\"como se cumple condición, se ejecuta el print\")"
   ]
  },
  {
   "cell_type": "code",
   "execution_count": 5,
   "id": "3ed01879",
   "metadata": {},
   "outputs": [
    {
     "name": "stdout",
     "output_type": "stream",
     "text": [
      "la variable x vale 7!\n"
     ]
    }
   ],
   "source": [
    "#encadenando ifs\n",
    "x = 7\n",
    "\n",
    "#si x vale 7, ejecuta lo siguiente\n",
    "if x == 7:\n",
    "    print(\"la variable x vale 7!\")\n",
    "\n",
    "#si x vale 4, haz lo siguiente\n",
    "if x ==4:\n",
    "    print(\"la variable x vale 4!\")\n",
    "    "
   ]
  },
  {
   "cell_type": "code",
   "execution_count": 13,
   "id": "2b261037",
   "metadata": {},
   "outputs": [
    {
     "name": "stdout",
     "output_type": "stream",
     "text": [
      "x vale 8!\n",
      "y vale 12!\n"
     ]
    }
   ],
   "source": [
    "#anidando if dentro de otros if\n",
    "\n",
    "x = 8\n",
    "y = 12\n",
    "\n",
    "#si x vale 8, imprime el mensaje\n",
    "if x == 8:\n",
    "    print(\"x vale 8!\")\n",
    "    \n",
    "    #si y vale 12, imprime el mensaje\n",
    "    if y == 12:#este if, está identado dentro del primer if\n",
    "        print(\"y vale 12!\")"
   ]
  },
  {
   "cell_type": "code",
   "execution_count": 12,
   "id": "5c6c5622",
   "metadata": {},
   "outputs": [
    {
     "name": "stdout",
     "output_type": "stream",
     "text": [
      "x vale 8!\n",
      "ademas y vale 12!\n"
     ]
    }
   ],
   "source": [
    "#evaluando multiples condiciones con if\n",
    "x = 8\n",
    "y = 12\n",
    "\n",
    "#si x vale 8 i y vale 12, haz lo siguiente\n",
    "if x == 8 and y == 12:\n",
    "    print(\"x vale 8!\")\n",
    "    print(\"ademas y vale 12!\")"
   ]
  }
 ],
 "metadata": {
  "kernelspec": {
   "display_name": "Python 3",
   "language": "python",
   "name": "python3"
  },
  "language_info": {
   "codemirror_mode": {
    "name": "ipython",
    "version": 3
   },
   "file_extension": ".py",
   "mimetype": "text/x-python",
   "name": "python",
   "nbconvert_exporter": "python",
   "pygments_lexer": "ipython3",
   "version": "3.8.8"
  }
 },
 "nbformat": 4,
 "nbformat_minor": 5
}
